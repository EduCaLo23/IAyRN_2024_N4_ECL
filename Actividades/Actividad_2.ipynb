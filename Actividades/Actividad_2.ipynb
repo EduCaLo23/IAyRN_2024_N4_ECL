{
  "nbformat": 4,
  "nbformat_minor": 0,
  "metadata": {
    "colab": {
      "provenance": []
    },
    "kernelspec": {
      "name": "python3",
      "display_name": "Python 3"
    },
    "language_info": {
      "name": "python"
    }
  },
  "cells": [
    {
      "cell_type": "markdown",
      "source": [
        "# Actividad 2: Diseño de algoritmos en Python, Eduardo Cantú Lozano, 2109600, Martes N4-N6\n",
        "\n",
        "\n",
        "---\n",
        "\n",
        "\n",
        "\n"
      ],
      "metadata": {
        "id": "kjlRl6wJffrc"
      }
    },
    {
      "cell_type": "code",
      "execution_count": null,
      "metadata": {
        "colab": {
          "base_uri": "https://localhost:8080/"
        },
        "id": "k2Jhs0C5B0AL",
        "outputId": "67d83473-0d50-4dab-e380-28291d860945"
      },
      "outputs": [
        {
          "output_type": "stream",
          "name": "stdout",
          "text": [
            "Ingresa tu nombre: Eduardo\n",
            "Hola Eduardo Bienvenido\n"
          ]
        }
      ],
      "source": [
        "nombre = input(\"Ingresa tu nombre: \")\n",
        "excepcion = [\"Ana\", \"Juan\", \"Pedro\"]\n",
        "if nombre in excepcion:\n",
        "  print(\"Bienvenido\")\n",
        "else:\n",
        "  print (\"Hola \" + nombre + \" Bienvenido\")"
      ]
    },
    {
      "cell_type": "code",
      "source": [
        "    n = int(input(\"Ingresa el número de elementos en la lista: \"))\n",
        "    lista = []\n",
        "    print(\"Ingresa los elementos de la lista: \")\n",
        "    for i in range(n):\n",
        "      elemento = input(\"Elemento {}: \".format(i+1))\n",
        "      lista.append(elemento)\n",
        "\n",
        "    lista_invertida = lista[::-1]\n",
        "\n",
        "    print(\"Lista invertida: \", lista_invertida)"
      ],
      "metadata": {
        "colab": {
          "base_uri": "https://localhost:8080/"
        },
        "id": "3CTm2RARDR5-",
        "outputId": "3480bb9c-90ad-4f0c-ed9b-4197fd08af60"
      },
      "execution_count": 1,
      "outputs": [
        {
          "output_type": "stream",
          "name": "stdout",
          "text": [
            "Ingresa el número de elementos en la lista: 5\n",
            "Ingresa los elementos de la lista: \n",
            "Elemento 1: Plátano\n",
            "Elemento 2: Manzana\n",
            "Elemento 3: Mango\n",
            "Elemento 4: Sandía\n",
            "Elemento 5: Melón\n",
            "Lista invertida:  ['Melón', 'Sandía', 'Mango', 'Manzana', 'Plátano']\n"
          ]
        }
      ]
    },
    {
      "cell_type": "code",
      "source": [
        "def fibonacci(n):\n",
        "  serie_fibonacci = []\n",
        "  a, b = 0, 1\n",
        "  for _ in range (n):\n",
        "    serie_fibonacci.append (a)\n",
        "    a, b = b, a + b\n",
        "  return serie_fibonacci\n",
        "\n",
        "def main():\n",
        "\n",
        "  n = int(input(\"Ingresa la cantidad de números de la serie de Fibonacci: \"))\n",
        "  if n <= 0:\n",
        "      print(\"Ingresa un número entero positivo\")\n",
        "  else:\n",
        "    serie_fibonacci = fibonacci(n)\n",
        "    print(\"Serie de Fibonacci con {} números:\".format(n))\n",
        "    print(serie_fibonacci)\n",
        "\n",
        "main()\n"
      ],
      "metadata": {
        "id": "nHoGW1GuiW9Q",
        "colab": {
          "base_uri": "https://localhost:8080/"
        },
        "outputId": "e33941c2-af51-403f-aaba-bbc043c70cfa"
      },
      "execution_count": null,
      "outputs": [
        {
          "output_type": "stream",
          "name": "stdout",
          "text": [
            "Ingresa la cantidad de números de la serie de Fibonacci: 8\n",
            "Serie de Fibonacci con 8 números:\n",
            "[0, 1, 1, 2, 3, 5, 8, 13]\n"
          ]
        }
      ]
    },
    {
      "cell_type": "code",
      "source": [
        "import random\n",
        "numero_aleatorio = random.randint(1, 100)\n",
        "intentos = 0\n",
        "print(\"Adivina el número entre el 1 al 100\")\n",
        "\n",
        "while True:\n",
        "  intento = int(input(\"Ingresa un número: \"))\n",
        "  intentos += 1\n",
        "\n",
        "  if intento < numero_aleatorio:\n",
        "    print(\"El número es MAYOR, vuelve a intentar\")\n",
        "  elif intento > numero_aleatorio:\n",
        "    print(\"El número es MENOR\n",
        "    , vuelve a intentar\")\n",
        "  else:\n",
        "    print(\" ¡Adivinaste el número {} en {} intentos! \".format(numero_aleatorio, intentos))\n",
        "    break\n"
      ],
      "metadata": {
        "colab": {
          "base_uri": "https://localhost:8080/"
        },
        "id": "tUVGaYy1FS6i",
        "outputId": "58e6e3ae-788b-4810-a5fb-26fb42dbfa68"
      },
      "execution_count": null,
      "outputs": [
        {
          "output_type": "stream",
          "name": "stdout",
          "text": [
            "Adivina el número entre el 1 al 100\n",
            "Ingresa un número: 50\n",
            "El número es MAYOR, vuelve a intentar\n",
            "Ingresa un número: 90\n",
            "El número es MENOR, vuelve a intentar\n",
            "Ingresa un número: 70\n",
            "El número es MAYOR, vuelve a intentar\n",
            "Ingresa un número: 75\n",
            "El número es MENOR, vuelve a intentar\n",
            "Ingresa un número: 74\n",
            "El número es MENOR, vuelve a intentar\n",
            "Ingresa un número: 73\n",
            "El número es MENOR, vuelve a intentar\n",
            "Ingresa un número: 72\n",
            " ¡Adivinaste el número 72 en 7 intentos! \n"
          ]
        }
      ]
    },
    {
      "cell_type": "code",
      "source": [
        "inicio_rango = int(input(\"Ingresa el inicio del rango: \"))\n",
        "fin_rango = int(input(\"Ingresa el final del rango: \"))\n",
        "\n",
        "if inicio_rango > fin_rango:\n",
        "  print(\"El inicio de rango debe ser menor o igual al final del rango\")\n",
        "else:\n",
        "  print(f\"Estos son los números primos en el rango de {inicio_rango} a {fin_rango}:\")\n",
        "  for numero in range(inicio_rango, fin_rango + 1):\n",
        "    if numero > 1:\n",
        "      es_primo = True\n",
        "      for i in range(2, int(numero**0.5) + 1):\n",
        "        if numero % i == 0:\n",
        "          es_primo = False\n",
        "          break\n",
        "      if es_primo:\n",
        "        print(numero)"
      ],
      "metadata": {
        "colab": {
          "base_uri": "https://localhost:8080/"
        },
        "id": "Qoa1imyxJiUy",
        "outputId": "1335a04d-813f-4c32-ae24-6ff638cddfef"
      },
      "execution_count": null,
      "outputs": [
        {
          "output_type": "stream",
          "name": "stdout",
          "text": [
            "Ingresa el inicio del rango: 0\n",
            "Ingresa el final del rango: 10\n",
            "Estos son los números primos en el rango de 0 a 10:\n",
            "2\n",
            "3\n",
            "5\n",
            "7\n"
          ]
        }
      ]
    },
    {
      "cell_type": "code",
      "source": [
        "def suma(a, b):\n",
        "    return a + b\n",
        "\n",
        "def resta(a, b):\n",
        "    return a - b\n",
        "\n",
        "def multiplicacion(a, b):\n",
        "    return a * b\n",
        "\n",
        "def division(a, b):\n",
        "    if b == 0:\n",
        "        return \"No se puede dividir por cero.\"\n",
        "    else:\n",
        "        return a / b\n",
        "\n",
        "def main():\n",
        "    num1 = float(input(\"Ingresa el primer número: \"))\n",
        "    num2 = float(input(\"Ingresa el segundo número: \"))\n",
        "\n",
        "    print(\"\\nOperaciones disponibles:\")\n",
        "    print(\"1. Suma\")\n",
        "    print(\"2. Resta\")\n",
        "    print(\"3. Multiplicación\")\n",
        "    print(\"4. División\")\n",
        "\n",
        "    opcion = int(input(\"Ingresa el número de la operación que desea realizar: \"))\n",
        "\n",
        "    # Realizar la operación seleccionada\n",
        "    if opcion == 1:\n",
        "        print(\"La suma es:\", suma(num1, num2))\n",
        "    elif opcion == 2:\n",
        "        print(\"La resta es:\", resta(num1, num2))\n",
        "    elif opcion == 3:\n",
        "        print(\"La multiplicación es:\", multiplicacion(num1, num2))\n",
        "    elif opcion == 4:\n",
        "        print(\"La división es:\", division(num1, num2))\n",
        "    else:\n",
        "        print(\"Opción no válida. Por favor, ingrese un número de operación válido.\")\n",
        "main()"
      ],
      "metadata": {
        "colab": {
          "base_uri": "https://localhost:8080/"
        },
        "id": "Qq1lVIR-meIJ",
        "outputId": "31287f33-40d0-4514-cba3-d0f7169cc1f5"
      },
      "execution_count": null,
      "outputs": [
        {
          "output_type": "stream",
          "name": "stdout",
          "text": [
            "Ingrese el primer número: 5\n",
            "Ingrese el segundo número: 5\n",
            "\n",
            "Operaciones disponibles:\n",
            "1. Suma\n",
            "2. Resta\n",
            "3. Multiplicación\n",
            "4. División\n",
            "Ingrese el número de la operación que desea realizar: 1\n",
            "La suma es: 10.0\n"
          ]
        }
      ]
    },
    {
      "cell_type": "markdown",
      "source": [],
      "metadata": {
        "id": "zQgzZVFTl67P"
      }
    }
  ]
}